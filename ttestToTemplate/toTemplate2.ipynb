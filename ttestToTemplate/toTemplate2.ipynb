{
 "cells": [
  {
   "cell_type": "code",
   "execution_count": null,
   "metadata": {},
   "outputs": [],
   "source": [
    "# to template\n",
    "inputFile <- args[1];\n",
    "indc <- strtoi(args[2]);\n",
    "options(digits=5)\n",
    "thresh <- as.double(args[3]);\n",
    "require(tools)\n",
    "filename <- file_path_sans_ext(inputFile);\n",
    "\n",
    "command <- paste0(\"3dcalc -a \", inputFile, \"'[\",indc,\"]' -expr 'a*ispositive(abs(a)-\", thresh, \")' -prefix tmpthreshed.nii\");\n",
    "system(command);\n",
    "system(\"3dmaskdump -o tmp tmpthreshed.nii\");\n",
    "\n",
    "\n",
    "d <- read.table(\"tmp\");\n",
    "t <- read.table(\"fNIRS_template.txt\");\n",
    "out_oxy <- t;\n",
    "out_doxy <- t;\n",
    "N <- 32;\n",
    "require(utils);\n",
    "pb <- txtProgressBar(min=0, max=N, style=3);\n",
    "for (i in 1:32) {\n",
    "    d_channel <- (d[i,2]*8)+d[i,3]+1;\n",
    "    t_rows <- which(t[ ,4] == d_channel);\n",
    "    # sanity checking\n",
    "    if ( length(t_rows) != 2 ) {\n",
    "        print(\"something has gone horribly wrong! t_rows != 2\");\n",
    "        exit(1);\n",
    "    }\n",
    "    if ( d[i, 1] == 0 ) {\n",
    "        out_oxy[t_rows[1], 4] <- d[i, 4];\n",
    "        out_oxy[t_rows[2], 4] <- d[i, 4];\n",
    "    } else {\n",
    "        out_doxy[t_rows[1], 4] <- d[i, 4];\n",
    "        out_doxy[t_rows[2], 4] <- d[i, 4];\n",
    "    }\n",
    "    setTxtProgressBar(pb, i);\n",
    "}\n",
    "close(pb);\n",
    "\n",
    "write.table(out_oxy, file=\"tmp.oxy.nii\", \n",
    "            quote=FALSE, col.names=FALSE, row.names=FALSE);\n",
    "write.table(out_doxy, file=\"tmp.doxy.nii\", \n",
    "            quote=FALSE, col.names=FALSE, row.names=FALSE);\n",
    "\n",
    "system(paste0(\"3dUndump -datum float -mask fNIRS_template_mask.nii -master fNIRS_template.nii -ijk -prefix \", filename, \".oxy.nii tmp.oxy.nii\"));\n",
    "system(paste0(\"3dUndump -datum float -mask fNIRS_template_mask.nii -master fNIRS_template.nii -ijk -prefix \", filename, \".doxy.nii tmp.doxy.nii\"));"
   ]
  }
 ],
 "metadata": {
  "kernelspec": {
   "display_name": "R",
   "language": "R",
   "name": "ir"
  },
  "language_info": {
   "codemirror_mode": "r",
   "file_extension": ".r",
   "mimetype": "text/x-r-source",
   "name": "R",
   "pygments_lexer": "r",
   "version": "3.5.1"
  }
 },
 "nbformat": 4,
 "nbformat_minor": 2
}
