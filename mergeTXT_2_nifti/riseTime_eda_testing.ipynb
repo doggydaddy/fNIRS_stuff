{
 "cells": [
  {
   "cell_type": "code",
   "execution_count": 4,
   "metadata": {
    "ExecuteTime": {
     "end_time": "2019-03-09T20:36:27.813050Z",
     "start_time": "2019-03-09T20:36:27.790Z"
    }
   },
   "outputs": [],
   "source": [
    "# rise time function\n",
    "riseTime <- function( x_data, y_data, start_index, stop_index=start_index+as.integer(blockDuration/3) ) {\n",
    "    ymax <- max(y_data[start_index:stop_index])\n",
    "    ymax_index <- which( y_data == ymax )\n",
    "    if ( length(ymax_index) > 1 ) {\n",
    "        ttp <- ymax_index[1] - start_index\n",
    "    } else {\n",
    "        ttp <- ymax_index - start_index\n",
    "    }\n",
    "    start_offset <- 80 # should the baseline be hard-coded like this?\n",
    "    if ( start_index > start_offset ) {\n",
    "        baseline <- y_data[(start_index):start_index]\n",
    "    } else {\n",
    "        baseline <- y_data[(start_index-start_offset):start_index] \n",
    "    }\n",
    "    baseline_value <- mean(baseline)\n",
    "    peak_amplitude <- ymax - baseline_value\n",
    "    if ( peak_amplitude < 0 ) {\n",
    "        # no signal! return \"NA\"\n",
    "        rise_time <- NA\n",
    "    } else {\n",
    "        rise_time <- peak_amplitude / ttp \n",
    "    }\n",
    "    return( rise_time )\n",
    "}\n",
    "\n",
    "# support function to get block start locations\n",
    "# for emo fear only\n",
    "getBlockStarts <- function( glm1 , glm2 ) {  \n",
    "    # generate x axis\n",
    "    unit_time <- 1:length( glm1 )\n",
    "    # find first block\n",
    "    sum_glm <- fixglm_fear( glm1 + glm2 )\n",
    "    N <- length(sum_glm)\n",
    "    blockStartIndices <- array(0, dim=6)\n",
    "    c <- 1\n",
    "    for ( i in 10:(N-1) ) {    # leave a bit or wriggle room at the start\n",
    "        if ( sum_glm[i] == 0 && sum_glm[i+1] > 0) {\n",
    "            # found a block start location\n",
    "            blockStartIndices[c] <- i+1\n",
    "            c <- c+1\n",
    "        }\n",
    "    }\n",
    "    if ( c != 7 ) {\n",
    "        print(\"Error: GetBlockStarts:\")\n",
    "        print(\"Error in finding block start!\")\n",
    "        print(\"Expected 6 block start locations\")\n",
    "        print(paste0(\"Found \", c-1))\n",
    "        return(list(\"blockStartIndices\"=rep(-1, 6), \"fors\"=rep(-1, 6)))\n",
    "    }\n",
    "    fors <- array(0, dim=6)\n",
    "    offset <- 10\n",
    "    for ( j in 1:6 ) {\n",
    "        if ( glm1[blockStartIndices[j]+offset] > 0) {\n",
    "            fors[j] <- 1 #feel\n",
    "        } else {\n",
    "            fors[j] <- 2 #suppress\n",
    "        }\n",
    "    }\n",
    "    return( list(\"blockStartIndices\"=blockStartIndices, \"fors\"=fors) )\n",
    "}"
   ]
  },
  {
   "cell_type": "code",
   "execution_count": 5,
   "metadata": {
    "ExecuteTime": {
     "end_time": "2019-03-09T20:36:30.151841Z",
     "start_time": "2019-03-09T20:36:29.976Z"
    }
   },
   "outputs": [],
   "source": [
    "# loading other support functions\n",
    "source('fnirs_rfunctions.R')\n",
    "\n",
    "# testing EDA preprocessing\n",
    "# load random datasets for testing\n",
    "data1 <- importData('Fatigue_files_for_Yanlu_180323/BN-9457/BN-9457_emo_fear_pre.txt') #fear\n",
    "data2 <- importData('Fatigue_files_for_Yanlu_180323/BJ-4714/BJ-4714_stroop_post.txt') #stroop\n",
    "data3 <- importData('Fatigue_files_for_Yanlu_180323/LA-8900/LA-8900_VFT_post.txt') #vft"
   ]
  },
  {
   "cell_type": "code",
   "execution_count": 12,
   "metadata": {
    "ExecuteTime": {
     "end_time": "2019-03-09T20:42:10.440734Z",
     "start_time": "2019-03-09T20:42:10.406Z"
    }
   },
   "outputs": [
    {
     "data": {
      "text/html": [
       "<dl>\n",
       "\t<dt>$blockStartIndices</dt>\n",
       "\t\t<dd><ol class=list-inline>\n",
       "\t<li>272</li>\n",
       "\t<li>832</li>\n",
       "\t<li>1392</li>\n",
       "\t<li>1952</li>\n",
       "\t<li>2512</li>\n",
       "\t<li>3072</li>\n",
       "</ol>\n",
       "</dd>\n",
       "\t<dt>$fors</dt>\n",
       "\t\t<dd><ol class=list-inline>\n",
       "\t<li>2</li>\n",
       "\t<li>1</li>\n",
       "\t<li>2</li>\n",
       "\t<li>1</li>\n",
       "\t<li>1</li>\n",
       "\t<li>2</li>\n",
       "</ol>\n",
       "</dd>\n",
       "</dl>\n"
      ],
      "text/latex": [
       "\\begin{description}\n",
       "\\item[\\$blockStartIndices] \\begin{enumerate*}\n",
       "\\item 272\n",
       "\\item 832\n",
       "\\item 1392\n",
       "\\item 1952\n",
       "\\item 2512\n",
       "\\item 3072\n",
       "\\end{enumerate*}\n",
       "\n",
       "\\item[\\$fors] \\begin{enumerate*}\n",
       "\\item 2\n",
       "\\item 1\n",
       "\\item 2\n",
       "\\item 1\n",
       "\\item 1\n",
       "\\item 2\n",
       "\\end{enumerate*}\n",
       "\n",
       "\\end{description}\n"
      ],
      "text/markdown": [
       "$blockStartIndices\n",
       ":   1. 272\n",
       "2. 832\n",
       "3. 1392\n",
       "4. 1952\n",
       "5. 2512\n",
       "6. 3072\n",
       "\n",
       "\n",
       "\n",
       "$fors\n",
       ":   1. 2\n",
       "2. 1\n",
       "3. 2\n",
       "4. 1\n",
       "5. 1\n",
       "6. 2\n",
       "\n",
       "\n",
       "\n",
       "\n",
       "\n"
      ],
      "text/plain": [
       "$blockStartIndices\n",
       "[1]  272  832 1392 1952 2512 3072\n",
       "\n",
       "$fors\n",
       "[1] 2 1 2 1 1 2\n"
      ]
     },
     "metadata": {},
     "output_type": "display_data"
    }
   ],
   "source": [
    "# taking a look at emo fear\n",
    "par(mfrow=c(3,1))\n",
    "glm1 <- fixglm_fear( data1$glm1 )\n",
    "glm2 <- fixglm_fear( data1$glm2 )\n",
    "blockIdx <- getBlockStarts( glm1 , glm2 )\n",
    "blockIdx\n",
    "unit_time <- (1:length(glm1))/8\n",
    "rt1 <- riseTime(unit_time, data1$eda, blockIdx$blockStartIndices[1])"
   ]
  }
 ],
 "metadata": {
  "kernelspec": {
   "display_name": "R",
   "language": "R",
   "name": "ir"
  },
  "language_info": {
   "codemirror_mode": "r",
   "file_extension": ".r",
   "mimetype": "text/x-r-source",
   "name": "R",
   "pygments_lexer": "r",
   "version": "3.5.2"
  }
 },
 "nbformat": 4,
 "nbformat_minor": 2
}
