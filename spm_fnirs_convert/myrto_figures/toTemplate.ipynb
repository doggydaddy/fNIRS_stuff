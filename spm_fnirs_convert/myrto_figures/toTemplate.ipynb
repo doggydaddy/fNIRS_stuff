{
 "cells": [
  {
   "cell_type": "code",
   "execution_count": 12,
   "metadata": {},
   "outputs": [
    {
     "name": "stdout",
     "output_type": "stream",
     "text": [
      "  |===================================                                   |  50%\n"
     ]
    }
   ],
   "source": [
    "options(digits=5)\n",
    "require(tools)\n",
    "require(utils);\n",
    "\n",
    "filename='tmptest.nii'\n",
    "d <- read.csv('test.txt');\n",
    "t <- read.table(\"fNIRS_template.txt\");\n",
    "out <- t;\n",
    "N <- 32;\n",
    "pb <- txtProgressBar(min=0, max=N, style=3);\n",
    "for (i in 1:16) {\n",
    "    d_channel <- d[i, 1];\n",
    "    t_rows <- which(t[ ,4] == d_channel);\n",
    "    # sanity checking\n",
    "    if ( length(t_rows) != 2 ) {\n",
    "        print(\"something has gone horribly wrong! t_rows != 2\");\n",
    "        print(d_channel)\n",
    "        print(t_rows)\n",
    "        exit(1);\n",
    "    }\n",
    "    out[t_rows[1], 4] <- d[i, 2];\n",
    "    out[t_rows[2], 4] <- d[i, 2];\n",
    "\n",
    "    setTxtProgressBar(pb, i);\n",
    "}\n",
    "close(pb);\n",
    "\n",
    "write.table(out, file=\"tmp.oxy.nii\", \n",
    "            quote=FALSE, col.names=FALSE, row.names=FALSE);\n",
    "\n",
    "system(paste0(\"3dUndump -datum float -mask fNIRS_template_mask.nii -master fNIRS_template.nii -ijk -prefix \", filename, \".oxy.nii tmp.oxy.nii\"));"
   ]
  }
 ],
 "metadata": {
  "kernelspec": {
   "display_name": "R",
   "language": "R",
   "name": "ir"
  },
  "language_info": {
   "codemirror_mode": "r",
   "file_extension": ".r",
   "mimetype": "text/x-r-source",
   "name": "R",
   "pygments_lexer": "r",
   "version": "3.6.3"
  }
 },
 "nbformat": 4,
 "nbformat_minor": 4
}
