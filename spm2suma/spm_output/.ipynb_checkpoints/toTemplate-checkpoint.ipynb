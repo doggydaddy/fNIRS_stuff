{
 "cells": [
  {
   "cell_type": "code",
   "execution_count": 11,
   "metadata": {},
   "outputs": [
    {
     "name": "stdout",
     "output_type": "stream",
     "text": [
      "  |===================================                                   |  50%\n"
     ]
    },
    {
     "ename": "ERROR",
     "evalue": "Error in paste0(\"3dUndump -datum float -mask fNIRS_template_mask.nii -master fNIRS_template.nii -ijk -prefix \", : object 'filename' not found\n",
     "output_type": "error",
     "traceback": [
      "Error in paste0(\"3dUndump -datum float -mask fNIRS_template_mask.nii -master fNIRS_template.nii -ijk -prefix \", : object 'filename' not found\nTraceback:\n",
      "1. system(paste0(\"3dUndump -datum float -mask fNIRS_template_mask.nii -master fNIRS_template.nii -ijk -prefix \", \n .     filename, \".oxy.nii tmp.oxy.nii\"))",
      "2. paste0(\"3dUndump -datum float -mask fNIRS_template_mask.nii -master fNIRS_template.nii -ijk -prefix \", \n .     filename, \".oxy.nii tmp.oxy.nii\")"
     ]
    }
   ],
   "source": [
    "options(digits=5)\n",
    "require(tools)\n",
    "require(utils);\n",
    "filename='tmptest.nii'\n",
    "d <- read.csv('test.txt');\n",
    "t <- read.table(\"fNIRS_template.txt\");\n",
    "out_oxy <- t;\n",
    "out_doxy <- t;\n",
    "N <- 32;\n",
    "pb <- txtProgressBar(min=0, max=N, style=3);\n",
    "for (i in 1:16) {\n",
    "    d_channel <- d[i, 1];\n",
    "    t_rows <- which(t[ ,4] == d_channel);\n",
    "    # sanity checking\n",
    "    if ( length(t_rows) != 2 ) {\n",
    "        print(\"something has gone horribly wrong! t_rows != 2\");\n",
    "        print(d_channel)\n",
    "        print(t_rows)\n",
    "        exit(1);\n",
    "    }\n",
    "    if ( d[i, 1] == 0 ) {\n",
    "        out_oxy[t_rows[1], 4] <- d[i, 2];\n",
    "        out_oxy[t_rows[2], 4] <- d[i, 2];\n",
    "    } else {\n",
    "        out_doxy[t_rows[1], 4] <- d[i, 2];\n",
    "        out_doxy[t_rows[2], 4] <- d[i, 2];\n",
    "    }\n",
    "    setTxtProgressBar(pb, i);\n",
    "}\n",
    "close(pb);\n",
    "\n",
    "write.table(out_oxy, file=\"tmp.oxy.nii\", \n",
    "            quote=FALSE, col.names=FALSE, row.names=FALSE);\n",
    "write.table(out_doxy, file=\"tmp.doxy.nii\", \n",
    "            quote=FALSE, col.names=FALSE, row.names=FALSE);\n",
    "\n",
    "system(paste0(\"3dUndump -datum float -mask fNIRS_template_mask.nii -master fNIRS_template.nii -ijk -prefix \", filename, \".oxy.nii tmp.oxy.nii\"));\n",
    "system(paste0(\"3dUndump -datum float -mask fNIRS_template_mask.nii -master fNIRS_template.nii -ijk -prefix \", filename, \".doxy.nii tmp.doxy.nii\"));"
   ]
  },
  {
   "cell_type": "code",
   "execution_count": 10,
   "metadata": {},
   "outputs": [
    {
     "data": {
      "text/html": [
       "<table>\n",
       "<caption>A data.frame: 16 × 2</caption>\n",
       "<thead>\n",
       "\t<tr><th scope=col>output1</th><th scope=col>output2</th></tr>\n",
       "\t<tr><th scope=col>&lt;int&gt;</th><th scope=col>&lt;dbl&gt;</th></tr>\n",
       "</thead>\n",
       "<tbody>\n",
       "\t<tr><td> 1</td><td>-0.267714</td></tr>\n",
       "\t<tr><td> 2</td><td>-0.267463</td></tr>\n",
       "\t<tr><td> 3</td><td>-0.787439</td></tr>\n",
       "\t<tr><td> 4</td><td>-0.640092</td></tr>\n",
       "\t<tr><td> 5</td><td>-0.515525</td></tr>\n",
       "\t<tr><td> 6</td><td>-0.400130</td></tr>\n",
       "\t<tr><td> 7</td><td>-0.186914</td></tr>\n",
       "\t<tr><td> 8</td><td> 0.167212</td></tr>\n",
       "\t<tr><td> 9</td><td>-0.203053</td></tr>\n",
       "\t<tr><td>10</td><td> 0.167845</td></tr>\n",
       "\t<tr><td>11</td><td>-0.049405</td></tr>\n",
       "\t<tr><td>12</td><td> 0.169631</td></tr>\n",
       "\t<tr><td>13</td><td> 0.037690</td></tr>\n",
       "\t<tr><td>14</td><td> 0.040359</td></tr>\n",
       "\t<tr><td>15</td><td> 0.147565</td></tr>\n",
       "\t<tr><td>16</td><td> 0.381211</td></tr>\n",
       "</tbody>\n",
       "</table>\n"
      ],
      "text/latex": [
       "A data.frame: 16 × 2\n",
       "\\begin{tabular}{r|ll}\n",
       " output1 & output2\\\\\n",
       " <int> & <dbl>\\\\\n",
       "\\hline\n",
       "\t  1 & -0.267714\\\\\n",
       "\t  2 & -0.267463\\\\\n",
       "\t  3 & -0.787439\\\\\n",
       "\t  4 & -0.640092\\\\\n",
       "\t  5 & -0.515525\\\\\n",
       "\t  6 & -0.400130\\\\\n",
       "\t  7 & -0.186914\\\\\n",
       "\t  8 &  0.167212\\\\\n",
       "\t  9 & -0.203053\\\\\n",
       "\t 10 &  0.167845\\\\\n",
       "\t 11 & -0.049405\\\\\n",
       "\t 12 &  0.169631\\\\\n",
       "\t 13 &  0.037690\\\\\n",
       "\t 14 &  0.040359\\\\\n",
       "\t 15 &  0.147565\\\\\n",
       "\t 16 &  0.381211\\\\\n",
       "\\end{tabular}\n"
      ],
      "text/markdown": [
       "\n",
       "A data.frame: 16 × 2\n",
       "\n",
       "| output1 &lt;int&gt; | output2 &lt;dbl&gt; |\n",
       "|---|---|\n",
       "|  1 | -0.267714 |\n",
       "|  2 | -0.267463 |\n",
       "|  3 | -0.787439 |\n",
       "|  4 | -0.640092 |\n",
       "|  5 | -0.515525 |\n",
       "|  6 | -0.400130 |\n",
       "|  7 | -0.186914 |\n",
       "|  8 |  0.167212 |\n",
       "|  9 | -0.203053 |\n",
       "| 10 |  0.167845 |\n",
       "| 11 | -0.049405 |\n",
       "| 12 |  0.169631 |\n",
       "| 13 |  0.037690 |\n",
       "| 14 |  0.040359 |\n",
       "| 15 |  0.147565 |\n",
       "| 16 |  0.381211 |\n",
       "\n"
      ],
      "text/plain": [
       "   output1 output2  \n",
       "1   1      -0.267714\n",
       "2   2      -0.267463\n",
       "3   3      -0.787439\n",
       "4   4      -0.640092\n",
       "5   5      -0.515525\n",
       "6   6      -0.400130\n",
       "7   7      -0.186914\n",
       "8   8       0.167212\n",
       "9   9      -0.203053\n",
       "10 10       0.167845\n",
       "11 11      -0.049405\n",
       "12 12       0.169631\n",
       "13 13       0.037690\n",
       "14 14       0.040359\n",
       "15 15       0.147565\n",
       "16 16       0.381211"
      ]
     },
     "metadata": {},
     "output_type": "display_data"
    }
   ],
   "source": [
    "d"
   ]
  }
 ],
 "metadata": {
  "kernelspec": {
   "display_name": "R",
   "language": "R",
   "name": "ir"
  },
  "language_info": {
   "codemirror_mode": "r",
   "file_extension": ".r",
   "mimetype": "text/x-r-source",
   "name": "R",
   "pygments_lexer": "r",
   "version": "3.6.3"
  }
 },
 "nbformat": 4,
 "nbformat_minor": 4
}
